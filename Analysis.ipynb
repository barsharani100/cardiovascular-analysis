{
 "cells": [
  {
   "cell_type": "code",
   "execution_count": 1,
   "id": "164188e8",
   "metadata": {},
   "outputs": [],
   "source": [
    "import pandas as pd"
   ]
  },
  {
   "cell_type": "code",
   "execution_count": 2,
   "id": "5b9f8592",
   "metadata": {},
   "outputs": [
    {
     "name": "stdout",
     "output_type": "stream",
     "text": [
      "          id    age  gender  height  weight  ap_hi  ap_lo  cholesterol  gluc  \\\n",
      "0          0  18393       2     168    62.0    110     80            1     1   \n",
      "1          1  20228       1     156    85.0    140     90            3     1   \n",
      "2          2  18857       1     165    64.0    130     70            3     1   \n",
      "3          3  17623       2     169    82.0    150    100            1     1   \n",
      "4          4  17474       1     156    56.0    100     60            1     1   \n",
      "...      ...    ...     ...     ...     ...    ...    ...          ...   ...   \n",
      "69995  99993  19240       2     168    76.0    120     80            1     1   \n",
      "69996  99995  22601       1     158   126.0    140     90            2     2   \n",
      "69997  99996  19066       2     183   105.0    180     90            3     1   \n",
      "69998  99998  22431       1     163    72.0    135     80            1     2   \n",
      "69999  99999  20540       1     170    72.0    120     80            2     1   \n",
      "\n",
      "       smoke  alco  active  cardio  \n",
      "0          0     0       1       0  \n",
      "1          0     0       1       1  \n",
      "2          0     0       0       1  \n",
      "3          0     0       1       1  \n",
      "4          0     0       0       0  \n",
      "...      ...   ...     ...     ...  \n",
      "69995      1     0       1       0  \n",
      "69996      0     0       1       1  \n",
      "69997      0     1       0       1  \n",
      "69998      0     0       0       1  \n",
      "69999      0     0       1       0  \n",
      "\n",
      "[70000 rows x 13 columns]\n"
     ]
    }
   ],
   "source": [
    "df = pd.read_csv(\"heart-train.csv\",sep=';')\n",
    "print(df)"
   ]
  },
  {
   "cell_type": "code",
   "execution_count": 3,
   "id": "618e4635",
   "metadata": {},
   "outputs": [
    {
     "data": {
      "text/html": [
       "<div>\n",
       "<style scoped>\n",
       "    .dataframe tbody tr th:only-of-type {\n",
       "        vertical-align: middle;\n",
       "    }\n",
       "\n",
       "    .dataframe tbody tr th {\n",
       "        vertical-align: top;\n",
       "    }\n",
       "\n",
       "    .dataframe thead th {\n",
       "        text-align: right;\n",
       "    }\n",
       "</style>\n",
       "<table border=\"1\" class=\"dataframe\">\n",
       "  <thead>\n",
       "    <tr style=\"text-align: right;\">\n",
       "      <th></th>\n",
       "      <th>id</th>\n",
       "      <th>age</th>\n",
       "      <th>gender</th>\n",
       "      <th>height</th>\n",
       "      <th>weight</th>\n",
       "      <th>ap_hi</th>\n",
       "      <th>ap_lo</th>\n",
       "      <th>cholesterol</th>\n",
       "      <th>gluc</th>\n",
       "      <th>smoke</th>\n",
       "      <th>alco</th>\n",
       "      <th>active</th>\n",
       "      <th>cardio</th>\n",
       "    </tr>\n",
       "  </thead>\n",
       "  <tbody>\n",
       "  </tbody>\n",
       "</table>\n",
       "</div>"
      ],
      "text/plain": [
       "Empty DataFrame\n",
       "Columns: [id, age, gender, height, weight, ap_hi, ap_lo, cholesterol, gluc, smoke, alco, active, cardio]\n",
       "Index: []"
      ]
     },
     "metadata": {},
     "output_type": "display_data"
    },
    {
     "data": {
      "text/html": [
       "<div>\n",
       "<style scoped>\n",
       "    .dataframe tbody tr th:only-of-type {\n",
       "        vertical-align: middle;\n",
       "    }\n",
       "\n",
       "    .dataframe tbody tr th {\n",
       "        vertical-align: top;\n",
       "    }\n",
       "\n",
       "    .dataframe thead th {\n",
       "        text-align: right;\n",
       "    }\n",
       "</style>\n",
       "<table border=\"1\" class=\"dataframe\">\n",
       "  <thead>\n",
       "    <tr style=\"text-align: right;\">\n",
       "      <th></th>\n",
       "      <th>id</th>\n",
       "      <th>age</th>\n",
       "      <th>gender</th>\n",
       "      <th>height</th>\n",
       "      <th>weight</th>\n",
       "      <th>ap_hi</th>\n",
       "      <th>ap_lo</th>\n",
       "      <th>cholesterol</th>\n",
       "      <th>gluc</th>\n",
       "      <th>smoke</th>\n",
       "      <th>alco</th>\n",
       "      <th>active</th>\n",
       "      <th>cardio</th>\n",
       "    </tr>\n",
       "  </thead>\n",
       "  <tbody>\n",
       "    <tr>\n",
       "      <th>0</th>\n",
       "      <td>0</td>\n",
       "      <td>18393</td>\n",
       "      <td>2</td>\n",
       "      <td>168</td>\n",
       "      <td>62.0</td>\n",
       "      <td>110</td>\n",
       "      <td>80</td>\n",
       "      <td>1</td>\n",
       "      <td>1</td>\n",
       "      <td>0</td>\n",
       "      <td>0</td>\n",
       "      <td>1</td>\n",
       "      <td>0</td>\n",
       "    </tr>\n",
       "    <tr>\n",
       "      <th>1</th>\n",
       "      <td>1</td>\n",
       "      <td>20228</td>\n",
       "      <td>1</td>\n",
       "      <td>156</td>\n",
       "      <td>85.0</td>\n",
       "      <td>140</td>\n",
       "      <td>90</td>\n",
       "      <td>3</td>\n",
       "      <td>1</td>\n",
       "      <td>0</td>\n",
       "      <td>0</td>\n",
       "      <td>1</td>\n",
       "      <td>1</td>\n",
       "    </tr>\n",
       "    <tr>\n",
       "      <th>2</th>\n",
       "      <td>2</td>\n",
       "      <td>18857</td>\n",
       "      <td>1</td>\n",
       "      <td>165</td>\n",
       "      <td>64.0</td>\n",
       "      <td>130</td>\n",
       "      <td>70</td>\n",
       "      <td>3</td>\n",
       "      <td>1</td>\n",
       "      <td>0</td>\n",
       "      <td>0</td>\n",
       "      <td>0</td>\n",
       "      <td>1</td>\n",
       "    </tr>\n",
       "    <tr>\n",
       "      <th>3</th>\n",
       "      <td>3</td>\n",
       "      <td>17623</td>\n",
       "      <td>2</td>\n",
       "      <td>169</td>\n",
       "      <td>82.0</td>\n",
       "      <td>150</td>\n",
       "      <td>100</td>\n",
       "      <td>1</td>\n",
       "      <td>1</td>\n",
       "      <td>0</td>\n",
       "      <td>0</td>\n",
       "      <td>1</td>\n",
       "      <td>1</td>\n",
       "    </tr>\n",
       "    <tr>\n",
       "      <th>4</th>\n",
       "      <td>4</td>\n",
       "      <td>17474</td>\n",
       "      <td>1</td>\n",
       "      <td>156</td>\n",
       "      <td>56.0</td>\n",
       "      <td>100</td>\n",
       "      <td>60</td>\n",
       "      <td>1</td>\n",
       "      <td>1</td>\n",
       "      <td>0</td>\n",
       "      <td>0</td>\n",
       "      <td>0</td>\n",
       "      <td>0</td>\n",
       "    </tr>\n",
       "    <tr>\n",
       "      <th>...</th>\n",
       "      <td>...</td>\n",
       "      <td>...</td>\n",
       "      <td>...</td>\n",
       "      <td>...</td>\n",
       "      <td>...</td>\n",
       "      <td>...</td>\n",
       "      <td>...</td>\n",
       "      <td>...</td>\n",
       "      <td>...</td>\n",
       "      <td>...</td>\n",
       "      <td>...</td>\n",
       "      <td>...</td>\n",
       "      <td>...</td>\n",
       "    </tr>\n",
       "    <tr>\n",
       "      <th>69995</th>\n",
       "      <td>99993</td>\n",
       "      <td>19240</td>\n",
       "      <td>2</td>\n",
       "      <td>168</td>\n",
       "      <td>76.0</td>\n",
       "      <td>120</td>\n",
       "      <td>80</td>\n",
       "      <td>1</td>\n",
       "      <td>1</td>\n",
       "      <td>1</td>\n",
       "      <td>0</td>\n",
       "      <td>1</td>\n",
       "      <td>0</td>\n",
       "    </tr>\n",
       "    <tr>\n",
       "      <th>69996</th>\n",
       "      <td>99995</td>\n",
       "      <td>22601</td>\n",
       "      <td>1</td>\n",
       "      <td>158</td>\n",
       "      <td>126.0</td>\n",
       "      <td>140</td>\n",
       "      <td>90</td>\n",
       "      <td>2</td>\n",
       "      <td>2</td>\n",
       "      <td>0</td>\n",
       "      <td>0</td>\n",
       "      <td>1</td>\n",
       "      <td>1</td>\n",
       "    </tr>\n",
       "    <tr>\n",
       "      <th>69997</th>\n",
       "      <td>99996</td>\n",
       "      <td>19066</td>\n",
       "      <td>2</td>\n",
       "      <td>183</td>\n",
       "      <td>105.0</td>\n",
       "      <td>180</td>\n",
       "      <td>90</td>\n",
       "      <td>3</td>\n",
       "      <td>1</td>\n",
       "      <td>0</td>\n",
       "      <td>1</td>\n",
       "      <td>0</td>\n",
       "      <td>1</td>\n",
       "    </tr>\n",
       "    <tr>\n",
       "      <th>69998</th>\n",
       "      <td>99998</td>\n",
       "      <td>22431</td>\n",
       "      <td>1</td>\n",
       "      <td>163</td>\n",
       "      <td>72.0</td>\n",
       "      <td>135</td>\n",
       "      <td>80</td>\n",
       "      <td>1</td>\n",
       "      <td>2</td>\n",
       "      <td>0</td>\n",
       "      <td>0</td>\n",
       "      <td>0</td>\n",
       "      <td>1</td>\n",
       "    </tr>\n",
       "    <tr>\n",
       "      <th>69999</th>\n",
       "      <td>99999</td>\n",
       "      <td>20540</td>\n",
       "      <td>1</td>\n",
       "      <td>170</td>\n",
       "      <td>72.0</td>\n",
       "      <td>120</td>\n",
       "      <td>80</td>\n",
       "      <td>2</td>\n",
       "      <td>1</td>\n",
       "      <td>0</td>\n",
       "      <td>0</td>\n",
       "      <td>1</td>\n",
       "      <td>0</td>\n",
       "    </tr>\n",
       "  </tbody>\n",
       "</table>\n",
       "<p>70000 rows × 13 columns</p>\n",
       "</div>"
      ],
      "text/plain": [
       "          id    age  gender  height  weight  ap_hi  ap_lo  cholesterol  gluc  \\\n",
       "0          0  18393       2     168    62.0    110     80            1     1   \n",
       "1          1  20228       1     156    85.0    140     90            3     1   \n",
       "2          2  18857       1     165    64.0    130     70            3     1   \n",
       "3          3  17623       2     169    82.0    150    100            1     1   \n",
       "4          4  17474       1     156    56.0    100     60            1     1   \n",
       "...      ...    ...     ...     ...     ...    ...    ...          ...   ...   \n",
       "69995  99993  19240       2     168    76.0    120     80            1     1   \n",
       "69996  99995  22601       1     158   126.0    140     90            2     2   \n",
       "69997  99996  19066       2     183   105.0    180     90            3     1   \n",
       "69998  99998  22431       1     163    72.0    135     80            1     2   \n",
       "69999  99999  20540       1     170    72.0    120     80            2     1   \n",
       "\n",
       "       smoke  alco  active  cardio  \n",
       "0          0     0       1       0  \n",
       "1          0     0       1       1  \n",
       "2          0     0       0       1  \n",
       "3          0     0       1       1  \n",
       "4          0     0       0       0  \n",
       "...      ...   ...     ...     ...  \n",
       "69995      1     0       1       0  \n",
       "69996      0     0       1       1  \n",
       "69997      0     1       0       1  \n",
       "69998      0     0       0       1  \n",
       "69999      0     0       1       0  \n",
       "\n",
       "[70000 rows x 13 columns]"
      ]
     },
     "execution_count": 3,
     "metadata": {},
     "output_type": "execute_result"
    }
   ],
   "source": [
    "nan_df = df[df.isna().any(axis=1)]\n",
    "display(nan_df.head())\n",
    "\n",
    "df = df.dropna(how='all')\n",
    "df.head(70000 )"
   ]
  },
  {
   "cell_type": "code",
   "execution_count": 4,
   "id": "12989e90",
   "metadata": {},
   "outputs": [
    {
     "name": "stdout",
     "output_type": "stream",
     "text": [
      "Index(['id', 'age', 'gender', 'height', 'weight', 'ap_hi', 'ap_lo',\n",
      "       'cholesterol', 'gluc', 'smoke', 'alco', 'active', 'cardio'],\n",
      "      dtype='object')\n"
     ]
    }
   ],
   "source": [
    "print(df.columns)"
   ]
  },
  {
   "cell_type": "code",
   "execution_count": 5,
   "id": "c9b77391",
   "metadata": {},
   "outputs": [],
   "source": [
    "df.to_csv('training-data.csv', index=False)"
   ]
  },
  {
   "cell_type": "code",
   "execution_count": 6,
   "id": "c2a5f5a6",
   "metadata": {},
   "outputs": [
    {
     "name": "stdout",
     "output_type": "stream",
     "text": [
      "          id    age  gender  height  weight  ap_hi  ap_lo  cholesterol  gluc  \\\n",
      "0          0  18393       2     168    62.0    110     80            1     1   \n",
      "1          1  20228       1     156    85.0    140     90            3     1   \n",
      "2          2  18857       1     165    64.0    130     70            3     1   \n",
      "3          3  17623       2     169    82.0    150    100            1     1   \n",
      "4          4  17474       1     156    56.0    100     60            1     1   \n",
      "...      ...    ...     ...     ...     ...    ...    ...          ...   ...   \n",
      "69995  99993  19240       2     168    76.0    120     80            1     1   \n",
      "69996  99995  22601       1     158   126.0    140     90            2     2   \n",
      "69997  99996  19066       2     183   105.0    180     90            3     1   \n",
      "69998  99998  22431       1     163    72.0    135     80            1     2   \n",
      "69999  99999  20540       1     170    72.0    120     80            2     1   \n",
      "\n",
      "       smoke  alco  active  cardio  \n",
      "0          0     0       1       0  \n",
      "1          0     0       1       1  \n",
      "2          0     0       0       1  \n",
      "3          0     0       1       1  \n",
      "4          0     0       0       0  \n",
      "...      ...   ...     ...     ...  \n",
      "69995      1     0       1       0  \n",
      "69996      0     0       1       1  \n",
      "69997      0     1       0       1  \n",
      "69998      0     0       0       1  \n",
      "69999      0     0       1       0  \n",
      "\n",
      "[70000 rows x 13 columns]\n"
     ]
    }
   ],
   "source": [
    "all_data = pd.read_csv(\"training-data.csv\")\n",
    "print(all_data)"
   ]
  },
  {
   "cell_type": "code",
   "execution_count": 7,
   "id": "ed8ec1c1",
   "metadata": {},
   "outputs": [
    {
     "name": "stdout",
     "output_type": "stream",
     "text": [
      "Index(['id', 'age', 'gender', 'height', 'weight', 'ap_hi', 'ap_lo',\n",
      "       'cholesterol', 'gluc', 'smoke', 'alco', 'active', 'cardio'],\n",
      "      dtype='object')\n"
     ]
    }
   ],
   "source": [
    "print(all_data.columns)"
   ]
  },
  {
   "cell_type": "markdown",
   "id": "49c2f00c",
   "metadata": {},
   "source": [
    "feature selection : obesity,cholesterol,gluc,smoke,alco,activeness,hypertension"
   ]
  },
  {
   "cell_type": "markdown",
   "id": "4bbd4077",
   "metadata": {},
   "source": [
    "### we have to calculate obesity first , for that we need to know the body mass index (BMI)"
   ]
  },
  {
   "cell_type": "code",
   "execution_count": 8,
   "id": "3abf04a5",
   "metadata": {},
   "outputs": [
    {
     "name": "stdout",
     "output_type": "stream",
     "text": [
      "          id    age  gender  height  weight  ap_hi  ap_lo  cholesterol  gluc  \\\n",
      "0          0  18393       2     168    62.0    110     80            1     1   \n",
      "1          1  20228       1     156    85.0    140     90            3     1   \n",
      "2          2  18857       1     165    64.0    130     70            3     1   \n",
      "3          3  17623       2     169    82.0    150    100            1     1   \n",
      "4          4  17474       1     156    56.0    100     60            1     1   \n",
      "...      ...    ...     ...     ...     ...    ...    ...          ...   ...   \n",
      "69995  99993  19240       2     168    76.0    120     80            1     1   \n",
      "69996  99995  22601       1     158   126.0    140     90            2     2   \n",
      "69997  99996  19066       2     183   105.0    180     90            3     1   \n",
      "69998  99998  22431       1     163    72.0    135     80            1     2   \n",
      "69999  99999  20540       1     170    72.0    120     80            2     1   \n",
      "\n",
      "       smoke  alco  active  cardio        BMI  \n",
      "0          0     0       1       0  21.967120  \n",
      "1          0     0       1       1  34.927679  \n",
      "2          0     0       0       1  23.507805  \n",
      "3          0     0       1       1  28.710479  \n",
      "4          0     0       0       0  23.011177  \n",
      "...      ...   ...     ...     ...        ...  \n",
      "69995      1     0       1       0  26.927438  \n",
      "69996      0     0       1       1  50.472681  \n",
      "69997      0     1       0       1  31.353579  \n",
      "69998      0     0       0       1  27.099251  \n",
      "69999      0     0       1       0  24.913495  \n",
      "\n",
      "[70000 rows x 14 columns]\n"
     ]
    }
   ],
   "source": [
    "all_data['BMI']= (all_data['weight']/(all_data['height']* all_data['height']))*10000\n",
    "print(all_data)"
   ]
  },
  {
   "cell_type": "markdown",
   "id": "2505acba",
   "metadata": {},
   "source": [
    "now if BMI is less than 18.5 the person has obesity"
   ]
  },
  {
   "cell_type": "code",
   "execution_count": 9,
   "id": "d4caa9be",
   "metadata": {},
   "outputs": [
    {
     "name": "stdout",
     "output_type": "stream",
     "text": [
      "          id    age  gender  height  weight  ap_hi  ap_lo  cholesterol  gluc  \\\n",
      "0          0  18393       2     168    62.0    110     80            1     1   \n",
      "1          1  20228       1     156    85.0    140     90            3     1   \n",
      "2          2  18857       1     165    64.0    130     70            3     1   \n",
      "3          3  17623       2     169    82.0    150    100            1     1   \n",
      "4          4  17474       1     156    56.0    100     60            1     1   \n",
      "...      ...    ...     ...     ...     ...    ...    ...          ...   ...   \n",
      "69995  99993  19240       2     168    76.0    120     80            1     1   \n",
      "69996  99995  22601       1     158   126.0    140     90            2     2   \n",
      "69997  99996  19066       2     183   105.0    180     90            3     1   \n",
      "69998  99998  22431       1     163    72.0    135     80            1     2   \n",
      "69999  99999  20540       1     170    72.0    120     80            2     1   \n",
      "\n",
      "       smoke  alco  active  cardio        BMI  obesity  \n",
      "0          0     0       1       0  21.967120        0  \n",
      "1          0     0       1       1  34.927679        0  \n",
      "2          0     0       0       1  23.507805        0  \n",
      "3          0     0       1       1  28.710479        0  \n",
      "4          0     0       0       0  23.011177        0  \n",
      "...      ...   ...     ...     ...        ...      ...  \n",
      "69995      1     0       1       0  26.927438        0  \n",
      "69996      0     0       1       1  50.472681        0  \n",
      "69997      0     1       0       1  31.353579        0  \n",
      "69998      0     0       0       1  27.099251        0  \n",
      "69999      0     0       1       0  24.913495        0  \n",
      "\n",
      "[70000 rows x 15 columns]\n"
     ]
    }
   ],
   "source": [
    "def assign_value(x):\n",
    "    if x < 18.5:\n",
    "        return 1\n",
    "    else:\n",
    "        return 0\n",
    "\n",
    "all_data['obesity'] = all_data['BMI'].apply(lambda x: assign_value(x))\n",
    "\n",
    "print(all_data)"
   ]
  },
  {
   "cell_type": "markdown",
   "id": "2a9b5a8f",
   "metadata": {},
   "source": [
    "get the people having obesity"
   ]
  },
  {
   "cell_type": "code",
   "execution_count": 10,
   "id": "0ef17b92",
   "metadata": {},
   "outputs": [
    {
     "name": "stdout",
     "output_type": "stream",
     "text": [
      "          id    age  gender  height  weight  ap_hi  ap_lo  cholesterol  gluc  \\\n",
      "23        33  23376       2     156    45.0    110     60            1     1   \n",
      "107      142  14499       2     164    48.0    110     70            1     2   \n",
      "108      143  15440       2     174    54.0    130     80            2     2   \n",
      "187      254  19081       2     175    53.0    140     80            1     1   \n",
      "432      614  17425       1     165    47.0    110     80            1     2   \n",
      "...      ...    ...     ...     ...     ...    ...    ...          ...   ...   \n",
      "69734  99600  22505       1     156    43.0    150    100            1     1   \n",
      "69797  99689  17575       1     164    45.0    115     70            1     1   \n",
      "69864  99784  19667       2     175    52.0    110     70            1     1   \n",
      "69908  99856  14823       1     152    42.0    120     80            1     1   \n",
      "69919  99871  17312       1     159    45.0    110     70            2     2   \n",
      "\n",
      "       smoke  alco  active  cardio  \n",
      "23         0     0       1       0  \n",
      "107        1     1       1       1  \n",
      "108        0     0       1       1  \n",
      "187        1     0       1       1  \n",
      "432        0     0       1       0  \n",
      "...      ...   ...     ...     ...  \n",
      "69734      0     0       1       1  \n",
      "69797      0     0       1       0  \n",
      "69864      0     0       1       0  \n",
      "69908      0     0       1       0  \n",
      "69919      0     0       1       0  \n",
      "\n",
      "[650 rows x 13 columns]\n"
     ]
    }
   ],
   "source": [
    "obesity = all_data['obesity']==1\n",
    "obesity_people = df[obesity]\n",
    "print(obesity_people)"
   ]
  },
  {
   "cell_type": "code",
   "execution_count": 11,
   "id": "91217e27",
   "metadata": {},
   "outputs": [],
   "source": [
    "#graph for obesity\n",
    "\n",
    "\n",
    "\n"
   ]
  },
  {
   "cell_type": "markdown",
   "id": "fe0aca78",
   "metadata": {},
   "source": [
    "\n",
    "### now we should get the hypertension data of the people"
   ]
  },
  {
   "cell_type": "code",
   "execution_count": 12,
   "id": "a3c10c72",
   "metadata": {},
   "outputs": [
    {
     "name": "stdout",
     "output_type": "stream",
     "text": [
      "          id    age  gender  height  weight  ap_hi  ap_lo  cholesterol  gluc  \\\n",
      "0          0  18393       2     168    62.0    110     80            1     1   \n",
      "1          1  20228       1     156    85.0    140     90            3     1   \n",
      "2          2  18857       1     165    64.0    130     70            3     1   \n",
      "3          3  17623       2     169    82.0    150    100            1     1   \n",
      "4          4  17474       1     156    56.0    100     60            1     1   \n",
      "...      ...    ...     ...     ...     ...    ...    ...          ...   ...   \n",
      "69995  99993  19240       2     168    76.0    120     80            1     1   \n",
      "69996  99995  22601       1     158   126.0    140     90            2     2   \n",
      "69997  99996  19066       2     183   105.0    180     90            3     1   \n",
      "69998  99998  22431       1     163    72.0    135     80            1     2   \n",
      "69999  99999  20540       1     170    72.0    120     80            2     1   \n",
      "\n",
      "       smoke  alco  active  cardio        BMI  obesity hypertension  \n",
      "0          0     0       1       0  21.967120        0       Stage1  \n",
      "1          0     0       1       1  34.927679        0       Stage2  \n",
      "2          0     0       0       1  23.507805        0       Stage1  \n",
      "3          0     0       1       1  28.710479        0       Stage2  \n",
      "4          0     0       0       0  23.011177        0       Normal  \n",
      "...      ...   ...     ...     ...        ...      ...          ...  \n",
      "69995      1     0       1       0  26.927438        0       Stage1  \n",
      "69996      0     0       1       1  50.472681        0       Stage2  \n",
      "69997      0     1       0       1  31.353579        0       Stage2  \n",
      "69998      0     0       0       1  27.099251        0       Stage1  \n",
      "69999      0     0       1       0  24.913495        0       Stage1  \n",
      "\n",
      "[70000 rows x 16 columns]\n"
     ]
    }
   ],
   "source": [
    "def classify_hypertension(ap_hi, ap_lo):\n",
    "    if ap_hi >= 140 or ap_lo >= 90:\n",
    "        return \"Stage2\"\n",
    "    elif 130 <= ap_hi <= 139 or 80 <= ap_lo <= 89:\n",
    "        return \"Stage1\"\n",
    "    elif 120 <= ap_hi <= 129 and ap_lo < 80:\n",
    "        return \"Elevated\"\n",
    "    else:\n",
    "        return \"Normal\"\n",
    "all_data['hypertension'] = all_data.apply(lambda row: classify_hypertension(row['ap_hi'], row['ap_lo']), axis=1)\n",
    "print(all_data)"
   ]
  },
  {
   "cell_type": "markdown",
   "id": "c9ed26e2",
   "metadata": {},
   "source": [
    "### Group by hypertension "
   ]
  },
  {
   "cell_type": "code",
   "execution_count": 14,
   "id": "1f46560b",
   "metadata": {},
   "outputs": [
    {
     "name": "stdout",
     "output_type": "stream",
     "text": [
      "          id    age  gender  height  weight  ap_hi  ap_lo  cholesterol  gluc  \\\n",
      "0          0  18393       2     168    62.0    110     80            1     1   \n",
      "1          1  20228       1     156    85.0    140     90            3     1   \n",
      "2          2  18857       1     165    64.0    130     70            3     1   \n",
      "3          3  17623       2     169    82.0    150    100            1     1   \n",
      "5          8  21914       1     151    67.0    120     80            2     2   \n",
      "...      ...    ...     ...     ...     ...    ...    ...          ...   ...   \n",
      "69995  99993  19240       2     168    76.0    120     80            1     1   \n",
      "69996  99995  22601       1     158   126.0    140     90            2     2   \n",
      "69997  99996  19066       2     183   105.0    180     90            3     1   \n",
      "69998  99998  22431       1     163    72.0    135     80            1     2   \n",
      "69999  99999  20540       1     170    72.0    120     80            2     1   \n",
      "\n",
      "       smoke  alco  active  cardio        BMI  obesity hypertension  \n",
      "0          0     0       1       0  21.967120        0       Stage1  \n",
      "1          0     0       1       1  34.927679        0       Stage2  \n",
      "2          0     0       0       1  23.507805        0       Stage1  \n",
      "3          0     0       1       1  28.710479        0       Stage2  \n",
      "5          0     0       0       0  29.384676        0       Stage1  \n",
      "...      ...   ...     ...     ...        ...      ...          ...  \n",
      "69995      1     0       1       0  26.927438        0       Stage1  \n",
      "69996      0     0       1       1  50.472681        0       Stage2  \n",
      "69997      0     1       0       1  31.353579        0       Stage2  \n",
      "69998      0     0       0       1  27.099251        0       Stage1  \n",
      "69999      0     0       1       0  24.913495        0       Stage1  \n",
      "\n",
      "[57267 rows x 16 columns]\n"
     ]
    }
   ],
   "source": [
    "hyper = all_data[(all_data['hypertension'] == \"Stage1\") | (all_data['hypertension'] == \"Stage2\")]\n",
    "\n",
    "print(hyper)"
   ]
  },
  {
   "cell_type": "code",
   "execution_count": null,
   "id": "52012dfe",
   "metadata": {},
   "outputs": [],
   "source": []
  }
 ],
 "metadata": {
  "kernelspec": {
   "display_name": "Python 3 (ipykernel)",
   "language": "python",
   "name": "python3"
  },
  "language_info": {
   "codemirror_mode": {
    "name": "ipython",
    "version": 3
   },
   "file_extension": ".py",
   "mimetype": "text/x-python",
   "name": "python",
   "nbconvert_exporter": "python",
   "pygments_lexer": "ipython3",
   "version": "3.11.4"
  }
 },
 "nbformat": 4,
 "nbformat_minor": 5
}
